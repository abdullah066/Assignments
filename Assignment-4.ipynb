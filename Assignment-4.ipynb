{
 "cells": [
  {
   "cell_type": "markdown",
   "metadata": {},
   "source": [
    "# Assignment-4"
   ]
  },
  {
   "cell_type": "markdown",
   "metadata": {},
   "source": [
    "# Question#1"
   ]
  },
  {
   "cell_type": "code",
   "execution_count": 1,
   "metadata": {},
   "outputs": [],
   "source": [
    "l=[\"abc\",\n",
    "   {\"name\" : \"Hamza Ali\",\n",
    "     \"age\"  : 25,\n",
    "     \"work\" : \"A.I\",\n",
    "     \"skills\" : [\"python\", \"tensorflow\", \"cloud\"],\n",
    "     \"degree\" : {\"title\" : \"BS\", \"major\" : \"computer Science\", \"completionDate\" : \"Jun 2019\"},\n",
    "     \"salary\" : 259999\n",
    "     },\n",
    "   {\"name\" : \"Farooq Aziz\",\n",
    "     \"age\"  : 27,\n",
    "     \"work\" : \"Cloud Native\",\n",
    "     \"skills\" : [\"ubuntu\", \"docker\", \"kubernetes\"],\n",
    "     \"degree\" : {\"title\" : \"MS\", \"major\" : \"Software engineer\", \"completionDate\" : \"May 2018\"},\n",
    "     \"salary\" : 200000\n",
    "     },\n",
    "     {\"name\" : \"Abu Bakr\",\n",
    "     \"age\"  : 30,\n",
    "     \"work\" : \"Blockchain\",\n",
    "     \"skills\" : [\"python\", \"Cryptography\", \"Ethereum\"],\n",
    "     \"degree\" : {\"title\" : \"BS\", \"major\" : \"computer Science\", \"completionDate\" : \"May 2019\"},\n",
    "     \"salary\" : 300000\n",
    "     }\n",
    "  ]"
   ]
  },
  {
   "cell_type": "code",
   "execution_count": 2,
   "metadata": {},
   "outputs": [
    {
     "name": "stdout",
     "output_type": "stream",
     "text": [
      "Enter name: (or enter nothing to exit) Abdullah\n",
      "Enter your age: 21\n",
      "Enter field of work: Tech Specialist\n",
      "Enter skills seperated by single comma: python,c++,ruby\n",
      "Enter Salary: 100000\n",
      "Enter degree title: BS\n",
      "Enter degree major: Information Technology\n",
      "Enter Degree completion date: Sep-2021\n"
     ]
    }
   ],
   "source": [
    "n=input(\"Enter name: (or enter nothing to exit) \")\n",
    "a=int(input(\"Enter your age: \"))\n",
    "w=input(\"Enter field of work: \")\n",
    "sk=input(\"Enter skills seperated by single comma: \")\n",
    "sl=int(input(\"Enter Salary: \"))\n",
    "dt=input(\"Enter degree title: \")\n",
    "dm=input(\"Enter degree major: \")\n",
    "dcd=input(\"Enter Degree completion date: \")\n",
    "sk=sk.split(',')\n",
    "l.append({'name':n,'age':a,'work':w,'skills':sk,'degree':{'title':dt,'major':dm,'completionDate':dcd},'salary':sl})"
   ]
  },
  {
   "cell_type": "code",
   "execution_count": 3,
   "metadata": {},
   "outputs": [
    {
     "data": {
      "text/plain": [
       "['abc',\n",
       " {'name': 'Hamza Ali',\n",
       "  'age': 25,\n",
       "  'work': 'A.I',\n",
       "  'skills': ['python', 'tensorflow', 'cloud'],\n",
       "  'degree': {'title': 'BS',\n",
       "   'major': 'computer Science',\n",
       "   'completionDate': 'Jun 2019'},\n",
       "  'salary': 259999},\n",
       " {'name': 'Farooq Aziz',\n",
       "  'age': 27,\n",
       "  'work': 'Cloud Native',\n",
       "  'skills': ['ubuntu', 'docker', 'kubernetes'],\n",
       "  'degree': {'title': 'MS',\n",
       "   'major': 'Software engineer',\n",
       "   'completionDate': 'May 2018'},\n",
       "  'salary': 200000},\n",
       " {'name': 'Abu Bakr',\n",
       "  'age': 30,\n",
       "  'work': 'Blockchain',\n",
       "  'skills': ['python', 'Cryptography', 'Ethereum'],\n",
       "  'degree': {'title': 'BS',\n",
       "   'major': 'computer Science',\n",
       "   'completionDate': 'May 2019'},\n",
       "  'salary': 300000},\n",
       " {'name': 'Abdullah',\n",
       "  'age': 21,\n",
       "  'work': 'Tech Specialist',\n",
       "  'skills': ['python', 'c++', 'ruby'],\n",
       "  'degree': {'title': 'BS',\n",
       "   'major': 'Information Technology',\n",
       "   'completionDate': 'Sep-2021'},\n",
       "  'salary': 100000}]"
      ]
     },
     "execution_count": 3,
     "metadata": {},
     "output_type": "execute_result"
    }
   ],
   "source": [
    "l"
   ]
  },
  {
   "cell_type": "markdown",
   "metadata": {},
   "source": [
    "# Question#2"
   ]
  },
  {
   "cell_type": "code",
   "execution_count": 4,
   "metadata": {},
   "outputs": [
    {
     "name": "stdout",
     "output_type": "stream",
     "text": [
      "Enter lower range: 5\n",
      "Enter higher range: 10\n"
     ]
    }
   ],
   "source": [
    "low=int(input(\"Enter lower range: \"))\n",
    "high=int(input(\"Enter higher range: \"))"
   ]
  },
  {
   "cell_type": "code",
   "execution_count": 5,
   "metadata": {},
   "outputs": [
    {
     "name": "stdout",
     "output_type": "stream",
     "text": [
      "1 x 5 = 5\n",
      "2 x 5 = 10\n",
      "3 x 5 = 15\n",
      "4 x 5 = 20\n",
      "5 x 5 = 25\n",
      "6 x 5 = 30\n",
      "7 x 5 = 35\n",
      "8 x 5 = 40\n",
      "9 x 5 = 45\n",
      "10 x 5 = 50\n",
      "\n",
      "1 x 6 = 6\n",
      "2 x 6 = 12\n",
      "3 x 6 = 18\n",
      "4 x 6 = 24\n",
      "5 x 6 = 30\n",
      "6 x 6 = 36\n",
      "7 x 6 = 42\n",
      "8 x 6 = 48\n",
      "9 x 6 = 54\n",
      "10 x 6 = 60\n",
      "\n",
      "1 x 7 = 7\n",
      "2 x 7 = 14\n",
      "3 x 7 = 21\n",
      "4 x 7 = 28\n",
      "5 x 7 = 35\n",
      "6 x 7 = 42\n",
      "7 x 7 = 49\n",
      "8 x 7 = 56\n",
      "9 x 7 = 63\n",
      "10 x 7 = 70\n",
      "\n",
      "1 x 8 = 8\n",
      "2 x 8 = 16\n",
      "3 x 8 = 24\n",
      "4 x 8 = 32\n",
      "5 x 8 = 40\n",
      "6 x 8 = 48\n",
      "7 x 8 = 56\n",
      "8 x 8 = 64\n",
      "9 x 8 = 72\n",
      "10 x 8 = 80\n",
      "\n",
      "1 x 9 = 9\n",
      "2 x 9 = 18\n",
      "3 x 9 = 27\n",
      "4 x 9 = 36\n",
      "5 x 9 = 45\n",
      "6 x 9 = 54\n",
      "7 x 9 = 63\n",
      "8 x 9 = 72\n",
      "9 x 9 = 81\n",
      "10 x 9 = 90\n",
      "\n",
      "1 x 10 = 10\n",
      "2 x 10 = 20\n",
      "3 x 10 = 30\n",
      "4 x 10 = 40\n",
      "5 x 10 = 50\n",
      "6 x 10 = 60\n",
      "7 x 10 = 70\n",
      "8 x 10 = 80\n",
      "9 x 10 = 90\n",
      "10 x 10 = 100\n",
      "\n"
     ]
    }
   ],
   "source": [
    "for i in range(low,high+1):\n",
    "    for j in range(1,11):\n",
    "        print(j,'x',i,'=',j*i)\n",
    "    print('')"
   ]
  },
  {
   "cell_type": "code",
   "execution_count": 6,
   "metadata": {},
   "outputs": [
    {
     "name": "stdout",
     "output_type": "stream",
     "text": [
      "5 x 1 = 5 \t6 x 1 = 6 \t7 x 1 = 7 \t8 x 1 = 8 \t9 x 1 = 9 \t10 x 1 = 10 \t\n",
      "5 x 2 = 10 \t6 x 2 = 12 \t7 x 2 = 14 \t8 x 2 = 16 \t9 x 2 = 18 \t10 x 2 = 20 \t\n",
      "5 x 3 = 15 \t6 x 3 = 18 \t7 x 3 = 21 \t8 x 3 = 24 \t9 x 3 = 27 \t10 x 3 = 30 \t\n",
      "5 x 4 = 20 \t6 x 4 = 24 \t7 x 4 = 28 \t8 x 4 = 32 \t9 x 4 = 36 \t10 x 4 = 40 \t\n",
      "5 x 5 = 25 \t6 x 5 = 30 \t7 x 5 = 35 \t8 x 5 = 40 \t9 x 5 = 45 \t10 x 5 = 50 \t\n",
      "5 x 6 = 30 \t6 x 6 = 36 \t7 x 6 = 42 \t8 x 6 = 48 \t9 x 6 = 54 \t10 x 6 = 60 \t\n",
      "5 x 7 = 35 \t6 x 7 = 42 \t7 x 7 = 49 \t8 x 7 = 56 \t9 x 7 = 63 \t10 x 7 = 70 \t\n",
      "5 x 8 = 40 \t6 x 8 = 48 \t7 x 8 = 56 \t8 x 8 = 64 \t9 x 8 = 72 \t10 x 8 = 80 \t\n",
      "5 x 9 = 45 \t6 x 9 = 54 \t7 x 9 = 63 \t8 x 9 = 72 \t9 x 9 = 81 \t10 x 9 = 90 \t\n",
      "5 x 10 = 50 \t6 x 10 = 60 \t7 x 10 = 70 \t8 x 10 = 80 \t9 x 10 = 90 \t10 x 10 = 100 \t\n"
     ]
    }
   ],
   "source": [
    "for i in range(1,11):\n",
    "    for j in range(low,high+1):\n",
    "        print(str(j),'x',str(i),'=',str(i*j),'\\t',end='')\n",
    "    print('')"
   ]
  },
  {
   "cell_type": "code",
   "execution_count": null,
   "metadata": {},
   "outputs": [],
   "source": []
  }
 ],
 "metadata": {
  "kernelspec": {
   "display_name": "Python 3",
   "language": "python",
   "name": "python3"
  },
  "language_info": {
   "codemirror_mode": {
    "name": "ipython",
    "version": 3
   },
   "file_extension": ".py",
   "mimetype": "text/x-python",
   "name": "python",
   "nbconvert_exporter": "python",
   "pygments_lexer": "ipython3",
   "version": "3.7.4"
  }
 },
 "nbformat": 4,
 "nbformat_minor": 2
}
