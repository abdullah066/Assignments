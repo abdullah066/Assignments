{
 "cells": [
  {
   "cell_type": "markdown",
   "metadata": {},
   "source": [
    "# Assignment-4"
   ]
  },
  {
   "cell_type": "markdown",
   "metadata": {},
   "source": [
    "# Question#1"
   ]
  },
  {
   "cell_type": "code",
   "execution_count": 28,
   "metadata": {},
   "outputs": [],
   "source": [
    "l=[\"abc\",\n",
    "   {\"name\" : \"Hamza Ali\",\n",
    "     \"age\"  : 25,\n",
    "     \"work\" : \"A.I\",\n",
    "     \"skills\" : [\"python\", \"tensorflow\", \"cloud\"],\n",
    "     \"degree\" : {\"title\" : \"BS\", \"major\" : \"computer Science\", \"completionDate\" : \"Jun 2019\"},\n",
    "     \"salary\" : 259999\n",
    "     },\n",
    "   {\"name\" : \"Farooq Aziz\",\n",
    "     \"age\"  : 27,\n",
    "     \"work\" : \"Cloud Native\",\n",
    "     \"skills\" : [\"ubuntu\", \"docker\", \"kubernetes\"],\n",
    "     \"degree\" : {\"title\" : \"MS\", \"major\" : \"Software engineer\", \"completionDate\" : \"May 2018\"},\n",
    "     \"salary\" : 200000\n",
    "     },\n",
    "     {\"name\" : \"Abu Bakr\",\n",
    "     \"age\"  : 30,\n",
    "     \"work\" : \"Blockchain\",\n",
    "     \"skills\" : [\"python\", \"Cryptography\", \"Ethereum\"],\n",
    "     \"degree\" : {\"title\" : \"BS\", \"major\" : \"computer Science\", \"completionDate\" : \"May 2019\"},\n",
    "     \"salary\" : 300000\n",
    "     }\n",
    "  ]"
   ]
  },
  {
   "cell_type": "code",
   "execution_count": 30,
   "metadata": {},
   "outputs": [
    {
     "name": "stdout",
     "output_type": "stream",
     "text": [
      "Enter name: (or enter nothing to exit) Abdullah\n",
      "Enter your age: 21\n",
      "Enter field of work: Information technology\n",
      "Enter skills seperated by single comma: c++,python,ruby\n",
      "Enter Salary: 40000\n",
      "Enter degree title: BS\n",
      "Enter degree major: Information Technology\n",
      "Enter Degree completion date: Sep-2021\n"
     ]
    }
   ],
   "source": [
    "n=input(\"Enter name: (or enter nothing to exit) \")\n",
    "a=int(input(\"Enter your age: \"))\n",
    "w=input(\"Enter field of work: \")\n",
    "sk=input(\"Enter skills seperated by single comma: \")\n",
    "sl=int(input(\"Enter Salary: \"))\n",
    "dt=input(\"Enter degree title: \")\n",
    "dm=input(\"Enter degree major: \")\n",
    "dcd=input(\"Enter Degree completion date: \")\n",
    "sk=sk.split(',')\n",
    "l.append({'name':n,'age':a,'work':w,'skills':sk,'degree':{'title':dt,'major':dm,'completionDate':dcd},'salary':sl})"
   ]
  },
  {
   "cell_type": "code",
   "execution_count": 31,
   "metadata": {},
   "outputs": [
    {
     "data": {
      "text/plain": [
       "['abc',\n",
       " {'name': 'Hamza Ali',\n",
       "  'age': 25,\n",
       "  'work': 'A.I',\n",
       "  'skills': ['python', 'tensorflow', 'cloud'],\n",
       "  'degree': {'title': 'BS',\n",
       "   'major': 'computer Science',\n",
       "   'completionDate': 'Jun 2019'},\n",
       "  'salary': 259999},\n",
       " {'name': 'Farooq Aziz',\n",
       "  'age': 27,\n",
       "  'work': 'Cloud Native',\n",
       "  'skills': ['ubuntu', 'docker', 'kubernetes'],\n",
       "  'degree': {'title': 'MS',\n",
       "   'major': 'Software engineer',\n",
       "   'completionDate': 'May 2018'},\n",
       "  'salary': 200000},\n",
       " {'name': 'Abu Bakr',\n",
       "  'age': 30,\n",
       "  'work': 'Blockchain',\n",
       "  'skills': ['python', 'Cryptography', 'Ethereum'],\n",
       "  'degree': {'title': 'BS',\n",
       "   'major': 'computer Science',\n",
       "   'completionDate': 'May 2019'},\n",
       "  'salary': 300000},\n",
       " {'name': 'Abdullah',\n",
       "  'age': 21,\n",
       "  'work': 'Information technology',\n",
       "  'skills': ['c++', 'python', 'ruby'],\n",
       "  'degree': {'title': 'BS',\n",
       "   'major': 'Information Technology',\n",
       "   'completionDate': 'Sep-2021'},\n",
       "  'salary': 40000}]"
      ]
     },
     "execution_count": 31,
     "metadata": {},
     "output_type": "execute_result"
    }
   ],
   "source": [
    "l"
   ]
  },
  {
   "cell_type": "markdown",
   "metadata": {},
   "source": [
    "# Question#2"
   ]
  },
  {
   "cell_type": "code",
   "execution_count": 19,
   "metadata": {},
   "outputs": [
    {
     "name": "stdout",
     "output_type": "stream",
     "text": [
      "Enter lower range: 5\n",
      "Enter higher range: 10\n"
     ]
    }
   ],
   "source": [
    "low=int(input(\"Enter lower range: \"))\n",
    "high=int(input(\"Enter higher range: \"))"
   ]
  },
  {
   "cell_type": "code",
   "execution_count": 20,
   "metadata": {},
   "outputs": [
    {
     "name": "stdout",
     "output_type": "stream",
     "text": [
      "1 x 5 = 5\n",
      "2 x 5 = 10\n",
      "3 x 5 = 15\n",
      "4 x 5 = 20\n",
      "5 x 5 = 25\n",
      "6 x 5 = 30\n",
      "7 x 5 = 35\n",
      "8 x 5 = 40\n",
      "9 x 5 = 45\n",
      "10 x 5 = 50\n",
      "\n",
      "1 x 6 = 6\n",
      "2 x 6 = 12\n",
      "3 x 6 = 18\n",
      "4 x 6 = 24\n",
      "5 x 6 = 30\n",
      "6 x 6 = 36\n",
      "7 x 6 = 42\n",
      "8 x 6 = 48\n",
      "9 x 6 = 54\n",
      "10 x 6 = 60\n",
      "\n",
      "1 x 7 = 7\n",
      "2 x 7 = 14\n",
      "3 x 7 = 21\n",
      "4 x 7 = 28\n",
      "5 x 7 = 35\n",
      "6 x 7 = 42\n",
      "7 x 7 = 49\n",
      "8 x 7 = 56\n",
      "9 x 7 = 63\n",
      "10 x 7 = 70\n",
      "\n",
      "1 x 8 = 8\n",
      "2 x 8 = 16\n",
      "3 x 8 = 24\n",
      "4 x 8 = 32\n",
      "5 x 8 = 40\n",
      "6 x 8 = 48\n",
      "7 x 8 = 56\n",
      "8 x 8 = 64\n",
      "9 x 8 = 72\n",
      "10 x 8 = 80\n",
      "\n",
      "1 x 9 = 9\n",
      "2 x 9 = 18\n",
      "3 x 9 = 27\n",
      "4 x 9 = 36\n",
      "5 x 9 = 45\n",
      "6 x 9 = 54\n",
      "7 x 9 = 63\n",
      "8 x 9 = 72\n",
      "9 x 9 = 81\n",
      "10 x 9 = 90\n",
      "\n",
      "1 x 10 = 10\n",
      "2 x 10 = 20\n",
      "3 x 10 = 30\n",
      "4 x 10 = 40\n",
      "5 x 10 = 50\n",
      "6 x 10 = 60\n",
      "7 x 10 = 70\n",
      "8 x 10 = 80\n",
      "9 x 10 = 90\n",
      "10 x 10 = 100\n",
      "\n"
     ]
    }
   ],
   "source": [
    "for i in range(low,high+1):\n",
    "    for j in range(1,11):\n",
    "        print(j,'x',i,'=',j*i)\n",
    "    print('')"
   ]
  },
  {
   "cell_type": "code",
   "execution_count": 44,
   "metadata": {},
   "outputs": [
    {
     "name": "stdout",
     "output_type": "stream",
     "text": [
      "5 x 1 = 5        6 x 1 = 6        7 x 1 = 7        8 x 1 = 8        9 x 1 = 9        10 x 1 = 10        \n",
      "5 x 2 = 10        6 x 2 = 12        7 x 2 = 14        8 x 2 = 16        9 x 2 = 18        10 x 2 = 20        \n",
      "5 x 3 = 15        6 x 3 = 18        7 x 3 = 21        8 x 3 = 24        9 x 3 = 27        10 x 3 = 30        \n",
      "5 x 4 = 20        6 x 4 = 24        7 x 4 = 28        8 x 4 = 32        9 x 4 = 36        10 x 4 = 40        \n",
      "5 x 5 = 25        6 x 5 = 30        7 x 5 = 35        8 x 5 = 40        9 x 5 = 45        10 x 5 = 50        \n",
      "5 x 6 = 30        6 x 6 = 36        7 x 6 = 42        8 x 6 = 48        9 x 6 = 54        10 x 6 = 60        \n",
      "5 x 7 = 35        6 x 7 = 42        7 x 7 = 49        8 x 7 = 56        9 x 7 = 63        10 x 7 = 70        \n",
      "5 x 8 = 40        6 x 8 = 48        7 x 8 = 56        8 x 8 = 64        9 x 8 = 72        10 x 8 = 80        \n",
      "5 x 9 = 45        6 x 9 = 54        7 x 9 = 63        8 x 9 = 72        9 x 9 = 81        10 x 9 = 90        \n",
      "5 x 10 = 50        6 x 10 = 60        7 x 10 = 70        8 x 10 = 80        9 x 10 = 90        10 x 10 = 100        \n"
     ]
    }
   ],
   "source": [
    "for i in range(1,11):\n",
    "    for j in range(low,high+1):\n",
    "        print(str(j)+' x '+str(i)+' = '+str(i*j)+' '*8,end='')\n",
    "    print('')"
   ]
  },
  {
   "cell_type": "code",
   "execution_count": null,
   "metadata": {},
   "outputs": [],
   "source": []
  }
 ],
 "metadata": {
  "kernelspec": {
   "display_name": "Python 3",
   "language": "python",
   "name": "python3"
  },
  "language_info": {
   "codemirror_mode": {
    "name": "ipython",
    "version": 3
   },
   "file_extension": ".py",
   "mimetype": "text/x-python",
   "name": "python",
   "nbconvert_exporter": "python",
   "pygments_lexer": "ipython3",
   "version": "3.7.4"
  }
 },
 "nbformat": 4,
 "nbformat_minor": 2
}
